{
 "cells": [
  {
   "cell_type": "code",
   "execution_count": null,
   "id": "1f561a08-a7db-46a8-8efa-fb3637a7e580",
   "metadata": {
    "vscode": {
     "languageId": "python"
    }
   },
   "outputs": [],
   "source": [
    "from pyspark.sql import SparkSession\n",
    "import pyspark\n",
    "from pyspark.sql.functions import sum\n",
    "from pyspark.sql.functions import col, udf\n",
    "from pyspark.sql.types import StringType\n",
    "from pyspark.sql.types import IntegerType\n",
    "from wordcloud import WordCloud, STOPWORDS\n",
    "import matplotlib.pyplot as plt\n",
    "import re"
   ]
  },
  {
   "cell_type": "code",
   "execution_count": null,
   "id": "cb2c9256-8978-43a1-a10f-be8dbe103280",
   "metadata": {
    "vscode": {
     "languageId": "python"
    }
   },
   "outputs": [],
   "source": [
    "#Creating spark session.\n",
    "spark = SparkSession.builder.appName('twitter_data').getOrCreate()"
   ]
  },
  {
   "cell_type": "code",
   "execution_count": null,
   "id": "f123978e-3dc8-434b-9128-de42bebe73b2",
   "metadata": {
    "vscode": {
     "languageId": "python"
    }
   },
   "outputs": [],
   "source": [
    "#Reading arguments and storing in variables.\n",
    "bucket_name=''"
   ]
  },
  {
   "cell_type": "code",
   "execution_count": null,
   "id": "8431ed09-8daa-4c6d-909e-bc6cd5d28bd3",
   "metadata": {
    "vscode": {
     "languageId": "python"
    }
   },
   "outputs": [],
   "source": [
    "#Reading tweets data and storing in dataframe.\n",
    "tweets = spark.read.csv('gs://'+bucket_name+'/social_media_data_analytics/01-datasets/tweets_with_latitude_longitude_*.csv',header=True, inferSchema=True)"
   ]
  },
  {
   "cell_type": "code",
   "execution_count": null,
   "id": "cb1f5853-a284-4b71-af79-de72acc05562",
   "metadata": {
    "vscode": {
     "languageId": "python"
    }
   },
   "outputs": [],
   "source": [
    "def trans(x):\n",
    "    y = \" \".join([word for word in x.split()\n",
    "                                if 'http' not in word and '@' not in word and '<' not in word])\n",
    "    k=re.sub('[!@#$:).;,?&]', '', y.lower())\n",
    "    z=re.sub('  ', ' ', k)\n",
    "    return z"
   ]
  },
  {
   "cell_type": "code",
   "execution_count": null,
   "id": "de2fbb59-745c-4872-8463-9a26badeb49f",
   "metadata": {
    "vscode": {
     "languageId": "python"
    }
   },
   "outputs": [],
   "source": [
    "transformUDF = udf(lambda z:trans(z),StringType())\n",
    "tweets=tweets.withColumn(\"text new\", transformUDF(col(\"text\")))"
   ]
  },
  {
   "cell_type": "code",
   "execution_count": null,
   "id": "0eae9a10-eef5-49c2-9dbd-a0fe5a14fc9b",
   "metadata": {
    "vscode": {
     "languageId": "python"
    }
   },
   "outputs": [],
   "source": [
    "def location(x) :\n",
    "    if x==None :\n",
    "        y= ' '\n",
    "    else :\n",
    "        y=str(x)\n",
    "    return y"
   ]
  },
  {
   "cell_type": "code",
   "execution_count": null,
   "id": "7445c76d-adc8-4e45-87ba-1402593a50cc",
   "metadata": {
    "vscode": {
     "languageId": "python"
    }
   },
   "outputs": [],
   "source": [
    "locationUDF = udf(lambda z:location(z),StringType())\n",
    "tweets=tweets.withColumn(\"location new\", locationUDF(col(\"location\")))"
   ]
  },
  {
   "cell_type": "code",
   "execution_count": null,
   "id": "efd4410d-06e6-4685-968c-ab955aef2c5b",
   "metadata": {
    "vscode": {
     "languageId": "python"
    }
   },
   "outputs": [],
   "source": [
    "def source_new(x):\n",
    "    y=''\n",
    "    p=str(x)\n",
    "    m = re.search('(?i)<a([^>]+)>(.+?)</a>', p)\n",
    "    try:\n",
    "        y=m.group(0)\n",
    "    except AttributeError:\n",
    "        y=p\n",
    "    #z=re.sub('', ' ', y)\n",
    "    z=y.replace('', ' ')  \n",
    "    return y"
   ]
  },
  {
   "cell_type": "code",
   "execution_count": null,
   "id": "a1ced1b7-40cd-4ba5-844a-1552b893c90e",
   "metadata": {
    "vscode": {
     "languageId": "python"
    }
   },
   "outputs": [],
   "source": [
    "sourcenewUDF = udf(lambda z:source_new(z),StringType())\n",
    "tweets=tweets.withColumn(\"source new\", sourcenewUDF(col(\"source\")))"
   ]
  },
  {
   "cell_type": "code",
   "execution_count": null,
   "id": "486092bf-166e-4c81-89a2-19e48e1a752a",
   "metadata": {
    "vscode": {
     "languageId": "python"
    }
   },
   "outputs": [],
   "source": [
    "tweets=tweets.withColumn('followers_count_new',col('followers_count').cast(IntegerType()))\n",
    "tweets_by_type=tweets.groupBy('source new').sum('followers_count_new')\n",
    "tweets_by_type=tweets_by_type.filter(col('sum(followers_count_new)').isNotNull()) \n",
    "tweets_by_type=tweets_by_type.withColumn('count',col('sum(followers_count_new)').cast(IntegerType())).drop(col('sum(followers_count_new)'))\n",
    "tweets_by_type=tweets_by_type.filter(col('count') >100000)         "
   ]
  },
  {
   "cell_type": "code",
   "execution_count": null,
   "id": "fc7c34d0-9d01-46a5-bbbf-d115074f7df5",
   "metadata": {
    "vscode": {
     "languageId": "python"
    }
   },
   "outputs": [],
   "source": [
    "def source_new_2(x):\n",
    "    source_new2=''\n",
    "    if x not in ['Twitter for Android ','Instagram ','Twitter Web Client ','Twitter for iPhone ']:\n",
    "        source_new2 = 'Others'\n",
    "    else:\n",
    "        source_new2 = x\n",
    "    return source_new2"
   ]
  },
  {
   "cell_type": "code",
   "execution_count": null,
   "id": "41e6e5de-be17-4d8e-ba1f-669a19cfbbe6",
   "metadata": {
    "vscode": {
     "languageId": "python"
    }
   },
   "outputs": [],
   "source": [
    "sourcenew2UDF = udf(lambda z:source_new_2(z),StringType())\n",
    "tweets=tweets.withColumn(\"source_new2\", sourcenew2UDF(col(\"source\")))"
   ]
  },
  {
   "cell_type": "code",
   "execution_count": null,
   "id": "053b6c70-37a0-4b1c-b751-0d32bc97924b",
   "metadata": {
    "vscode": {
     "languageId": "python"
    }
   },
   "outputs": [],
   "source": [
    "tweets=tweets.toPandas()"
   ]
  },
  {
   "cell_type": "code",
   "execution_count": null,
   "id": "872a7180-0962-4817-8efd-315693d7808c",
   "metadata": {
    "vscode": {
     "languageId": "python"
    }
   },
   "outputs": [],
   "source": [
    "def wordcloud(tweets,col):\n",
    "    stopwords = set(STOPWORDS)\n",
    "    wordcloud = WordCloud(background_color=\"white\",stopwords=stopwords,random_state = 2016).generate(\" \".join([i for i in tweets[col]]))\n",
    "    plt.figure( figsize=(20,10), facecolor='k')\n",
    "    plt.imshow(wordcloud)\n",
    "    plt.axis(\"off\")\n",
    "    plt.title(\"Good Morning Datascience+\")"
   ]
  },
  {
   "cell_type": "code",
   "execution_count": null,
   "id": "97147b37-d39d-4dd4-8453-fa9c44d1d64e",
   "metadata": {
    "vscode": {
     "languageId": "python"
    }
   },
   "outputs": [],
   "source": [
    "#Plotting using word cloud\n",
    "wordcloud(tweets,'text new')"
   ]
  },
  {
   "cell_type": "code",
   "execution_count": null,
   "id": "1189af88-3833-4324-8deb-f7a7b59d43cd",
   "metadata": {
    "vscode": {
     "languageId": "python"
    }
   },
   "outputs": [],
   "source": [
    "wordcloud(tweets, 'location new')"
   ]
  },
  {
   "cell_type": "code",
   "execution_count": null,
   "id": "5be345ed-a92b-4242-a19c-490f345e37db",
   "metadata": {
    "vscode": {
     "languageId": "python"
    }
   },
   "outputs": [],
   "source": [
    "tweets_by_type=tweets_by_type.toPandas()"
   ]
  },
  {
   "cell_type": "code",
   "execution_count": null,
   "id": "fbbc343f-a7a9-46fd-9264-d7c76e55b305",
   "metadata": {
    "vscode": {
     "languageId": "python"
    }
   },
   "outputs": [],
   "source": [
    "#plotting the graph\n",
    "import seaborn as sns\n",
    "plt.rcParams[\"figure.figsize\"] = (90,30)\n",
    "sns.barplot(tweets_by_type['source new'], y=tweets_by_type['count'])"
   ]
  },
  {
   "cell_type": "code",
   "execution_count": null,
   "id": "cc9278c8-fc45-4834-a92c-824649c34352",
   "metadata": {
    "vscode": {
     "languageId": "python"
    }
   },
   "outputs": [],
   "source": [
    "tweets_by_type2 = tweets.groupby(['source_new2'])['followers_count'].sum()\n",
    "tweets_by_type2.rename(\"\",inplace=True)\n",
    "explode = (1,0,0,0,0)"
   ]
  },
  {
   "cell_type": "code",
   "execution_count": null,
   "id": "2a03e5a7-74c5-49df-bf3b-59b1270fa713",
   "metadata": {
    "vscode": {
     "languageId": "python"
    }
   },
   "outputs": [],
   "source": [
    "tweets.groupby(['source_new2'])['followers_count'].count()"
   ]
  },
  {
   "cell_type": "code",
   "execution_count": null,
   "id": "f3323213-5a25-4d47-aeb5-e0afd0543813",
   "metadata": {
    "vscode": {
     "languageId": "python"
    }
   },
   "outputs": [],
   "source": [
    "#Reading locations data\n",
    "tweets_location = spark.read.csv('gs://'+bucket_name+'/social_media_data_analytics/01-datasets/location_*.csv',header=True, inferSchema=True)\n",
    "tweets_location=tweets_location.withColumnRenamed('count','count_num')"
   ]
  },
  {
   "cell_type": "code",
   "execution_count": null,
   "id": "69fc9f7e-479c-45cc-9306-9155757fafe1",
   "metadata": {
    "vscode": {
     "languageId": "python"
    }
   },
   "outputs": [],
   "source": [
    "from pyspark.sql.functions import *\n",
    "tweets_agg=tweets_location.groupBy(col('latitude'),col('longitude'),col('location')).sum('count_num')\n",
    "tweets_agg=tweets_agg.withColumnRenamed('sum(count_num)','count')\n",
    "tweets_agg=tweets_agg.filter(col('location').isNotNull()).filter(col('latitude').isNotNull()).filter(col('longitude').isNotNull())"
   ]
  },
  {
   "cell_type": "code",
   "execution_count": null,
   "id": "2322f0bd-f982-46ff-b113-14d08323296e",
   "metadata": {
    "vscode": {
     "languageId": "python"
    }
   },
   "outputs": [],
   "source": [
    "q=tweets_agg.toPandas()"
   ]
  },
  {
   "cell_type": "code",
   "execution_count": null,
   "id": "15cb8fab-712c-481a-b455-f0224b50108a",
   "metadata": {
    "vscode": {
     "languageId": "python"
    }
   },
   "outputs": [],
   "source": [
    "import folium\n",
    "m = folium.Map(location=[20, 0], tiles=\"Stamen Terrain\", zoom_start=2)\n",
    "for i in range(0,len(q)):\n",
    "    popup= folium.Popup(q.iloc[i]['location'], parse_html=True)\n",
    "    folium.Marker([q.iloc[i]['latitude'], q.iloc[i]['longitude']], popup=popup).add_to(m)"
   ]
  },
  {
   "cell_type": "code",
   "execution_count": null,
   "id": "31055e76-179e-43b0-8ef7-6bcf3e83a127",
   "metadata": {
    "vscode": {
     "languageId": "python"
    }
   },
   "outputs": [],
   "source": [
    "#plotting the map\n",
    "m"
   ]
  }
 ],
 "metadata": {
  "kernelspec": {
   "display_name": "",
   "name": ""
  },
  "language_info": {
   "name": ""
  }
 },
 "nbformat": 4,
 "nbformat_minor": 5
}
