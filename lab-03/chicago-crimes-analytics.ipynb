{
 "cells": [
  {
   "cell_type": "markdown",
   "metadata": {},
   "source": [
    "# Copyright 2022 Google LLC."
    "# SPDX-License-Identifier: Apache-2.0"
   ]
  },
  {
   "cell_type": "markdown",
   "id": "8207e923-2b0e-4c77-8af9-42e121e9aa17",
   "metadata": {},
   "source": [
    "# Chicago Crimes Analysis"
   ]
  },
  {
   "cell_type": "markdown",
   "id": "70c89537-28a8-41b6-9941-41dc2a8122ea",
   "metadata": {},
   "source": [
    "### 1) Create a Spark sesssion"
   ]
  },
  {
   "cell_type": "code",
   "execution_count": null,
   "id": "bc60ab9a-cd91-439c-ba6e-3223e2abc1b2",
   "metadata": {},
   "outputs": [],
   "source": [
    "from pyspark.sql import SparkSession\n",
    "\n",
    "spark = SparkSession.builder \\\n",
    "  .appName(\"Chicago Crimes Analysis\")\\\n",
    "  .master(\"yarn\")\\\n",
    "  .enableHiveSupport()\\\n",
    "  .getOrCreate()"
   ]
  },
  {
   "cell_type": "code",
   "execution_count": null,
   "id": "c22a46d3-1df4-456d-be91-29de1922d795",
   "metadata": {},
   "outputs": [],
   "source": [
    "spark"
   ]
  },
  {
   "cell_type": "markdown",
   "id": "09e1031e-ab0f-46b5-80d4-e3801e30b361",
   "metadata": {},
   "source": [
    "### 2) Load data from a public dataset into a dataframe"
   ]
  },
  {
   "cell_type": "code",
   "execution_count": null,
   "id": "189a4327-f028-4e29-8531-7de006a0f12b",
   "metadata": {},
   "outputs": [],
   "source": [
    "# Read data from BigQuery\n",
    "baseDF = spark.read \\\n",
    "  .format('bigquery') \\\n",
    "  .load('bigquery-public-data.chicago_crime.crime')"
   ]
  },
  {
   "cell_type": "code",
   "execution_count": null,
   "id": "18e99943-bdd9-4cd5-9dc7-322a75f8e890",
   "metadata": {},
   "outputs": [],
   "source": [
    "# Print schema\n",
    "baseDF.printSchema()"
   ]
  },
  {
   "cell_type": "code",
   "execution_count": null,
   "id": "59e0224c-44ad-4345-a3ce-4ef98460f11f",
   "metadata": {},
   "outputs": [],
   "source": [
    "display(baseDF.show(3,truncate=False))"
   ]
  },
  {
   "cell_type": "code",
   "execution_count": null,
   "id": "c410e896-7d95-4c5c-addc-3f9098e2211f",
   "metadata": {},
   "outputs": [],
   "source": [
    "baseDF.createOrReplaceTempView(\"chicago_crimes_raw\")"
   ]
  },
  {
   "cell_type": "markdown",
   "id": "7891bee0-848b-4e72-80d4-b5ea9066dd6d",
   "metadata": {},
   "source": [
    "### 3) Transform the dataset"
   ]
  },
  {
   "cell_type": "markdown",
   "id": "c951c66f-6957-4066-b35f-c1052e4b9180",
   "metadata": {},
   "source": [
    "#### 3.1. Deduplicate"
   ]
  },
  {
   "cell_type": "code",
   "execution_count": null,
   "id": "590cfb9a-b9c8-4a2d-8fa2-4a4bb071c916",
   "metadata": {},
   "outputs": [],
   "source": [
    "# 3.1.a. Read raw crimes into a dataframe\n",
    "rawDF=spark.sql(\"select * from chicago_crimes_raw\")"
   ]
  },
  {
   "cell_type": "code",
   "execution_count": null,
   "id": "38699e7e-f7f2-45f7-b479-db5df6f20359",
   "metadata": {},
   "outputs": [],
   "source": [
    "# 3.1.b. Dedupe the data\n",
    "dedupedRawDF=rawDF.dropDuplicates()"
   ]
  },
  {
   "cell_type": "code",
   "execution_count": null,
   "id": "af3e7755-86b8-4e12-a8c1-811296cf702d",
   "metadata": {},
   "outputs": [],
   "source": [
    "dedupedRawDF.printSchema()"
   ]
  },
  {
   "cell_type": "markdown",
   "id": "87358ac5-2d18-4c8f-8c44-7d2391d48d44",
   "metadata": {},
   "source": [
    "#### 3.2. Augment the data with temporal attributes"
   ]
  },
  {
   "cell_type": "code",
   "execution_count": null,
   "id": "d98a3a4b-5a93-485a-8e42-afe2d7fcaf7e",
   "metadata": {},
   "outputs": [],
   "source": [
    "# 3.2.a. Create a UDF to return day of the week\n",
    "from pyspark.sql.types import *\n",
    "from pyspark.sql.functions import *\n",
    "\n",
    "def getDayNameFromWeekdayNbr(weekday):\n",
    "    if weekday == 0:\n",
    "        return \"Monday\"\n",
    "    if weekday == 1:\n",
    "        return \"Tuesday\"\n",
    "    if weekday == 2:\n",
    "        return \"Wednesday\"\n",
    "    if weekday == 3:\n",
    "        return \"Thursday\"\n",
    "    if weekday == 4:\n",
    "        return \"Friday\"\n",
    "    if weekday == 5:\n",
    "        return \"Saturday\"\n",
    "    if weekday == 6:\n",
    "        return \"Sunday\"\n",
    "\n",
    "udf_getDayNameFromWeekdayNbr = udf(getDayNameFromWeekdayNbr, StringType())"
   ]
  },
  {
   "cell_type": "code",
   "execution_count": null,
   "id": "43cc6a4a-6465-4d7f-b34f-04fa90599dce",
   "metadata": {},
   "outputs": [],
   "source": [
    "# 3.2.b. Add a column case_timestamp with case_dt_tm formatted to timestamp and create a temporary view on this\n",
    "augmentedDF=spark.sql(\"select * from chicago_crimes_raw\").withColumn(\"case_timestamp\",to_timestamp(\"date\",\"MM/dd/yyyy hh:mm:ss\"))"
   ]
  },
  {
   "cell_type": "code",
   "execution_count": null,
   "id": "3578b26e-6c57-4219-a09e-40cd8bc9109b",
   "metadata": {},
   "outputs": [],
   "source": [
    "augmentedDF.createOrReplaceTempView(\"crimes_raw_temp_with_timestamp\")"
   ]
  },
  {
   "cell_type": "code",
   "execution_count": null,
   "id": "7814d94d-4375-42a5-935d-5ee4391ee586",
   "metadata": {},
   "outputs": [],
   "source": [
    "augmentedDF.show(2)"
   ]
  },
  {
   "cell_type": "code",
   "execution_count": null,
   "id": "184db457-b497-4ef7-8754-d902e2efe4da",
   "metadata": {},
   "outputs": [],
   "source": [
    "augmentedDF.printSchema()"
   ]
  },
  {
   "cell_type": "code",
   "execution_count": null,
   "id": "8d7242d9-b7ff-4a85-a610-9d74742d5092",
   "metadata": {},
   "outputs": [],
   "source": [
    "# 3.2.c. Add some temporal attributes using Spark date features\n",
    "curatedInitialDF = spark.sql(\"select *, month(case_timestamp) as case_month,dayofmonth(case_timestamp) as case_day_of_month, hour(case_timestamp) as case_hour, dayofweek(case_timestamp) as case_day_of_week_nbr from crimes_raw_temp_with_timestamp\")"
   ]
  },
  {
   "cell_type": "code",
   "execution_count": null,
   "id": "0d8dbe3b-d91b-449b-bcc4-a23610f04900",
   "metadata": {},
   "outputs": [],
   "source": [
    "curatedInitialDF.show(2)"
   ]
  },
  {
   "cell_type": "code",
   "execution_count": null,
   "id": "99c7234c-3938-4f55-80cb-96ae100386b7",
   "metadata": {},
   "outputs": [],
   "source": [
    "# 3.2.d. Lets use the UDF we created to add the day of the week name\n",
    "curatedDF=curatedInitialDF.withColumn(\"case_day_of_week_name\",udf_getDayNameFromWeekdayNbr(\"case_day_of_week_nbr\"))"
   ]
  },
  {
   "cell_type": "code",
   "execution_count": null,
   "id": "4fa1972d-a8e8-483a-8627-67838c071b2c",
   "metadata": {},
   "outputs": [],
   "source": [
    "curatedDF.printSchema()"
   ]
  },
  {
   "cell_type": "code",
   "execution_count": null,
   "id": "d5a1bdf9-920f-4e0f-8a50-d37053784ca5",
   "metadata": {},
   "outputs": [],
   "source": [
    "curatedDF.show(2,truncate=False)"
   ]
  },
  {
   "cell_type": "code",
   "execution_count": null,
   "id": "a7996ac1-d034-4932-8226-7cbc04f90d83",
   "metadata": {},
   "outputs": [],
   "source": [
    "curatedDF.createOrReplaceTempView(\"chicago_crimes_temp_view\")"
   ]
  },
  {
   "cell_type": "markdown",
   "id": "8f696c4f-9a8f-4ffc-87a3-6caae00e6ef0",
   "metadata": {},
   "source": [
    "### 4) Analyze crimes"
   ]
  },
  {
   "cell_type": "markdown",
   "id": "f6878dfd-ec3e-4bb5-a98b-99480867f855",
   "metadata": {},
   "source": [
    "#### 4.1. Crimes by year"
   ]
  },
  {
   "cell_type": "code",
   "execution_count": null,
   "id": "ea986519-fc60-438a-a83b-eeb5d2cfa977",
   "metadata": {},
   "outputs": [],
   "source": [
    "crimesByYearDF=spark.sql(\"SELECT year,count(*) AS crime_count FROM chicago_crimes_temp_view GROUP BY year ORDER BY year;\")\n",
    "crimesByYearDF.show()"
   ]
  },
  {
   "cell_type": "code",
   "execution_count": null,
   "id": "b2bf6ecf-c0d0-4be5-8b97-85360ece00ba",
   "metadata": {},
   "outputs": [],
   "source": [
    "# Convert results to a Pandas dataframe for visualization\n",
    "crimesByYearPDF = crimesByYearDF.toPandas()"
   ]
  },
  {
   "cell_type": "code",
   "execution_count": null,
   "id": "9840a9d5-0642-495b-b458-ed3815914360",
   "metadata": {},
   "outputs": [],
   "source": [
    "crimesByYearPDF"
   ]
  },
  {
   "cell_type": "code",
   "execution_count": null,
   "id": "071e944a-952a-458a-a4a2-ddd54203e7b4",
   "metadata": {},
   "outputs": [],
   "source": [
    "import matplotlib.pyplot as plt"
   ]
  },
  {
   "cell_type": "code",
   "execution_count": null,
   "id": "0721f479-dd34-428c-9184-c60890d60fd2",
   "metadata": {},
   "outputs": [],
   "source": [
    "crimesByYearPDF.plot.bar(x='year', y='crime_count', rot=0,figsize=(12, 12))"
   ]
  },
  {
   "cell_type": "markdown",
   "id": "93adf4a1-9948-46ba-a198-c1e898c07458",
   "metadata": {},
   "source": [
    "#### 4.2. Crimes count by day"
   ]
  },
  {
   "cell_type": "code",
   "execution_count": null,
   "id": "ad9446ba-8c41-4d92-b88d-4fab83fc72ac",
   "metadata": {},
   "outputs": [],
   "source": [
    "\n",
    "crimesByDayDF=spark.sql(\"SELECT case_day_of_week_name as day,count(*) AS crime_count FROM chicago_crimes_temp_view GROUP BY case_day_of_week_name ORDER BY case_day_of_week_name;\")\n",
    "crimesByDayDF.show()"
   ]
  },
  {
   "cell_type": "code",
   "execution_count": null,
   "id": "6d0b9ef1-6047-403f-a2b9-a2ba4d065a66",
   "metadata": {},
   "outputs": [],
   "source": [
    "# Convert results to a Pandas dataframe for visualization\n",
    "crimesByDayPDF = crimesByDayDF.toPandas()"
   ]
  },
  {
   "cell_type": "code",
   "execution_count": null,
   "id": "bbb6bcc4-b59e-4e88-a5f4-d1ac8f0940c7",
   "metadata": {},
   "outputs": [],
   "source": [
    "crimesByDayPDF.plot.pie(y='crime_count', x='day', figsize=(12,12),title='Crimes by day of week', labels = ['Monday','Tuesday','Wednesday','Thuesday','Friday','Saturday','Sunday'],autopct='%1.0f%%')"
   ]
  }
 ],
 "metadata": {
  "language_info": {
   "codemirror_mode": {
    "name": "ipython",
    "version": 3
   },
   "file_extension": ".py",
   "mimetype": "text/x-python",
   "name": "python",
   "nbconvert_exporter": "python",
   "pygments_lexer": "ipython3",
   "version": "3.9.12"
  },
  "serverless_spark": "{\"name\":\"projects/charaka-349315/locations/us-central1/sessions/charaka-vai\",\"uuid\":\"42dba073-472b-473d-ba31-d3668c0209d8\",\"createTime\":\"2022-05-12T06:24:06.691633Z\",\"jupyterSession\":{},\"spark\":{},\"runtimeInfo\":{\"endpoints\":{\"Spark History Server\":\"https://igxqev2rzjf67bpo3ex3bgyse4-dot-us-central1.dataproc.googleusercontent.com/sparkhistory/\"},\"outputUri\":\"https://nt2x34fyjrgivaygsqhqmzdxca-dot-us-central1.dataproc.googleusercontent.com/gateway/default/jupyter/lab/\"},\"state\":\"ACTIVE\",\"stateTime\":\"2022-05-12T06:25:15.559667Z\",\"creator\":\"s8s-lab-sa@charaka-349315.iam.gserviceaccount.com\",\"runtimeConfig\":{\"properties\":{\"spark:spark.jars\":\"gs://spark-lib/bigquery/spark-bigquery-with-dependencies_2.12-0.22.2.jar\",\"spark:spark.executor.instances\":\"2\",\"spark:spark.driver.cores\":\"4\",\"spark:spark.executor.cores\":\"4\",\"spark:spark.eventLog.dir\":\"gs://s8s-sphs-159504796045/42dba073-472b-473d-ba31-d3668c0209d8/spark-job-history\"}},\"environmentConfig\":{\"executionConfig\":{\"serviceAccount\":\"s8s-lab-sa@charaka-349315.iam.gserviceaccount.com\",\"subnetworkUri\":\"https://www.googleapis.com/compute/v1/projects/charaka-349315/regions/us-central1/subnetworks/spark-snet\"},\"peripheralsConfig\":{\"sparkHistoryServerConfig\":{\"dataprocCluster\":\"projects/charaka-349315/regions/us-central1/clusters/s8s-sphs-159504796045\"}}}}",
  "serverless_spark_kernel_name": "remote-bde5aa2c167788804d4b36b2-pyspark"
 },
 "nbformat": 4,
 "nbformat_minor": 5
}
